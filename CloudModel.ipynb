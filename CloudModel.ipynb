{
 "cells": [
  {
   "cell_type": "code",
   "execution_count": null,
   "id": "a1d130ee-5187-406c-a8d4-3fa186cdf41b",
   "metadata": {
    "execution": {
     "iopub.execute_input": "2024-03-05T18:25:59.653191Z",
     "iopub.status.busy": "2024-03-05T18:25:59.652819Z",
     "iopub.status.idle": "2024-03-05T18:26:08.654959Z",
     "shell.execute_reply": "2024-03-05T18:26:08.654316Z",
     "shell.execute_reply.started": "2024-03-05T18:25:59.653162Z"
    },
    "tags": []
   },
   "outputs": [],
   "source": [
    "!pip install swig\n",
    "!pip install gym==0.21.0\n",
    "!pip install box2d-py\n",
    "from selection_methods import rank_selection\n",
    "from crossover_methods import single_point_crossover\n",
    "from mutation_methods import gaussian_mutation\n",
    "from  lunar_lander  import LunarLander\n",
    "from ga import GA\n",
    "from in_population import InPopulation"
   ]
  },
  {
   "cell_type": "code",
   "execution_count": null,
   "id": "95f62646-b7a1-4daa-a704-cd754fc0457b",
   "metadata": {
    "execution": {
     "iopub.execute_input": "2024-03-05T18:26:12.475223Z",
     "iopub.status.busy": "2024-03-05T18:26:12.474657Z",
     "iopub.status.idle": "2024-03-05T18:26:13.137756Z",
     "shell.execute_reply": "2024-03-05T18:26:13.136942Z",
     "shell.execute_reply.started": "2024-03-05T18:26:12.475193Z"
    },
    "tags": []
   },
   "outputs": [],
   "source": [
    "\n",
    "crossover_prob = 0.5\n",
    "min_crossover_prob = crossover_prob/5\n",
    "\n",
    "mutation_rate = 0.1\n",
    "mutation_std = 0.1\n",
    "\n",
    "min_mutation_rate = mutation_rate/5\n",
    "min_mutation_std = mutation_std/5\n",
    "\n",
    "\n",
    "def fitness_method (chromosome):\n",
    "    return env.get_score(chromosome)\n",
    "\n",
    "def selection_method(fitness):\n",
    "    return rank_selection(fitness)\n",
    "\n",
    "def crossover_method(chromosome, crossover_prob):\n",
    "    return single_point_crossover(chromosome, crossover_prob)\n",
    "\n",
    "def mutation_method(chromosome, mutation_rate, mutation_std):\n",
    "    return gaussian_mutation(chromosome, mutation_rate, mutation_std)\n",
    "\n",
    "evol_rate_min = 0.01\n",
    "gens_evol_rate = 30\n",
    "\n",
    "env = LunarLander()\n",
    "elites_percent = 0.10\n",
    "pop_size = 30\n",
    "max_pop_size = pop_size*2\n",
    "min_pop_size = pop_size/2\n",
    "generations_num_max = 250\n",
    "in_population = InPopulation(pop_size).generate_inpop()\n",
    "dir  = 'GA1/'\n",
    "\n",
    "ga_non_adapt = GA(dir, in_population, fitness_method, selection_method, crossover_method, mutation_method,  elites_percent, generations_num_max, min_pop_size, max_pop_size, min_crossover_prob, \n",
    "               min_mutation_rate, min_mutation_std, crossover_prob, mutation_rate, \n",
    "               mutation_std, evol_rate_min, gens_evol_rate, False)\n",
    "ga_non_adapt.execute()\n"
   ]
  },
  {
   "cell_type": "code",
   "execution_count": null,
   "id": "f5de3908-9672-411e-a745-650cde59cf85",
   "metadata": {
    "execution": {
     "iopub.status.busy": "2024-02-28T11:47:07.551580Z",
     "iopub.status.idle": "2024-02-28T11:47:07.551868Z",
     "shell.execute_reply": "2024-02-28T11:47:07.551743Z",
     "shell.execute_reply.started": "2024-02-28T11:47:07.551728Z"
    },
    "tags": []
   },
   "outputs": [],
   "source": [
    "!zip -r ga1.zip ga1"
   ]
  }
 ],
 "metadata": {
  "kernelspec": {
   "display_name": "Python 3 (ipykernel)",
   "language": "python",
   "name": "python3"
  },
  "language_info": {
   "codemirror_mode": {
    "name": "ipython",
    "version": 3
   },
   "file_extension": ".py",
   "mimetype": "text/x-python",
   "name": "python",
   "nbconvert_exporter": "python",
   "pygments_lexer": "ipython3",
   "version": "3.11.3"
  }
 },
 "nbformat": 4,
 "nbformat_minor": 5
}
